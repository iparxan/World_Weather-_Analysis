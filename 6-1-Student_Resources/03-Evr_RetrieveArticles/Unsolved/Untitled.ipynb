{
 "cells": [
  {
   "cell_type": "code",
   "execution_count": 1,
   "id": "d71e0cc2",
   "metadata": {},
   "outputs": [
    {
     "name": "stdout",
     "output_type": "stream",
     "text": [
      "Obtain and store API keys in a config file? 2\n",
      "Make API calls using the Python requests library? 1\n",
      "Parse and traverse through JSON objects? 2\n",
      "Handle errors by using try-except blocks? 1\n",
      "================================================================================================\n",
      "Self Evaluation for: 06.1-APIs - Getting Started with APIs\n",
      "------------------------\n",
      "Obtain and store API keys in a config file. (2/5)\n",
      "Make API calls using the Python requests library. (1/5)\n",
      "Parse and traverse through JSON objects. (2/5)\n",
      "Handle errors by using try-except blocks. (1/5)\n",
      "----------------------------------------------------------------\n",
      "Average: 1.5\n"
     ]
    }
   ],
   "source": [
    "title = \"06.1-APIs - Getting Started with APIs\"\n",
    "objectives = [\n",
    "    \"Obtain and store API keys in a config file\",\n",
    "    \"Make API calls using the Python requests library\",\n",
    "    \"Parse and traverse through JSON objects\",\n",
    "    \"Handle errors by using try-except blocks\",\n",
    "]\n",
    "rating = []\n",
    "total = 0\n",
    "for i in range(len(objectives)):\n",
    "    rate = input(objectives[i]+\"? \")\n",
    "    total += int(rate)\n",
    "    rating.append(objectives[i] + \". (\" + rate + \"/5)\")\n",
    "print(\"=\"*96)\n",
    "print(f\"Self Evaluation for: {title}\")\n",
    "print(\"-\"*24)\n",
    "for i in rating:\n",
    "    print(i)\n",
    "print(\"-\"*64)\n",
    "print(\"Average: \" + str(total/len(objectives)))"
   ]
  },
  {
   "cell_type": "code",
   "execution_count": null,
   "id": "b8ea2221",
   "metadata": {},
   "outputs": [],
   "source": []
  }
 ],
 "metadata": {
  "kernelspec": {
   "display_name": "PythonData",
   "language": "python",
   "name": "pythondata"
  },
  "language_info": {
   "codemirror_mode": {
    "name": "ipython",
    "version": 3
   },
   "file_extension": ".py",
   "mimetype": "text/x-python",
   "name": "python",
   "nbconvert_exporter": "python",
   "pygments_lexer": "ipython3",
   "version": "3.9.7"
  }
 },
 "nbformat": 4,
 "nbformat_minor": 5
}
